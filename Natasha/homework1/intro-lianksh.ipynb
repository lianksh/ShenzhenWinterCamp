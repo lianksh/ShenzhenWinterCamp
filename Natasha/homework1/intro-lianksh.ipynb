{
 "cells": [
  {
   "cell_type": "markdown",
   "metadata": {},
   "source": [
    "# Intro to Python exercises"
   ]
  },
  {
   "cell_type": "markdown",
   "metadata": {},
   "source": [
    "These exercises extend material that was covered in today's lecture.\n",
    "\n",
    "Please save the file as `intro-YOURNAME.ipynb` in the directory `ShenzhenWinterCamp/Natasha/Homework1`\n",
    "\n",
    "When you are finished, the Jupyter notebook file should be submitted to the GitHub repository with a pull request.\n",
    "\n",
    "My email is [tashawatkins@gmail.com](mailto:tashawatkins@gmail.com) if you require any assistance or further clarification."
   ]
  },
  {
   "cell_type": "markdown",
   "metadata": {},
   "source": [
    "## Reading: Python essentials\n",
    "\n",
    "It's important that you have a solid understanding of data types and functions for later lectures.\n",
    "\n",
    "Please read QuantEcon's Python Essentials: https://lectures.quantecon.org/py/python_essentials.html\n",
    "\n",
    "Complete exercise 1 through 5 below - you may check your answers but please attempt the question before checking!"
   ]
  },
  {
   "cell_type": "markdown",
   "metadata": {},
   "source": [
    "** Exercise 1 **"
   ]
  },
  {
   "cell_type": "code",
   "execution_count": 24,
   "metadata": {},
   "outputs": [
    {
     "data": {
      "text/plain": [
       "(20, 50, 2)"
      ]
     },
     "execution_count": 24,
     "metadata": {},
     "output_type": "execute_result"
    }
   ],
   "source": [
    "x_vars=[1,5,3]\n",
    "y_vars=[1,2,3]\n",
    "X=sum(x*y for x, y in zip(x_vars,y_vars))\n",
    "\n",
    "A=range(100)\n",
    "Y=sum(x%2==0 for x in A)\n",
    "\n",
    "B=(2,4,9,12)\n",
    "C=(5,2,8,10)\n",
    "Z=sum((x+y)%2==0 for x,y in zip(B,C))\n",
    "\n",
    "X,Y,Z"
   ]
  },
  {
   "cell_type": "markdown",
   "metadata": {},
   "source": [
    "** Exercise 2 **"
   ]
  },
  {
   "cell_type": "code",
   "execution_count": 35,
   "metadata": {},
   "outputs": [
    {
     "data": {
      "text/plain": [
       "12"
      ]
     },
     "execution_count": 35,
     "metadata": {},
     "output_type": "execute_result"
    }
   ],
   "source": [
    "def p(x,coeff):\n",
    " return sum(x**i*a for i,a in enumerate(coeff))\n",
    "p(2,(2,1,2))"
   ]
  },
  {
   "cell_type": "markdown",
   "metadata": {},
   "source": [
    "** Exercise 3 **"
   ]
  },
  {
   "cell_type": "code",
   "execution_count": 73,
   "metadata": {},
   "outputs": [
    {
     "data": {
      "text/plain": [
       "3"
      ]
     },
     "execution_count": 73,
     "metadata": {},
     "output_type": "execute_result"
    }
   ],
   "source": [
    "def f(x):\n",
    "    n = 0\n",
    "    for letter in x:\n",
    "        if letter == letter.upper() and letter.isalpha():\n",
    "         n =n+1\n",
    "    return n\n",
    "f(\"ShikjHI\")"
   ]
  },
  {
   "cell_type": "markdown",
   "metadata": {},
   "source": [
    "** Exercise 4 **"
   ]
  },
  {
   "cell_type": "code",
   "execution_count": 83,
   "metadata": {},
   "outputs": [
    {
     "data": {
      "text/plain": [
       "False"
      ]
     },
     "execution_count": 83,
     "metadata": {},
     "output_type": "execute_result"
    }
   ],
   "source": [
    "def f(seq_a,seq_b):\n",
    "    issubset=True\n",
    "    for x in seq_a:\n",
    "        if x not in seq_b:\n",
    "            issubset=False\n",
    "    return issubset\n",
    "a=[1,5,3,8]\n",
    "b=[1,3,7,5]\n",
    "f(a,b)"
   ]
  },
  {
   "cell_type": "markdown",
   "metadata": {},
   "source": [
    "** Exercise 5 **"
   ]
  },
  {
   "cell_type": "code",
   "execution_count": 104,
   "metadata": {},
   "outputs": [
    {
     "data": {
      "text/plain": [
       "8.0"
      ]
     },
     "execution_count": 104,
     "metadata": {},
     "output_type": "execute_result"
    }
   ],
   "source": [
    "def linapprox(f, a, b, n, x):\n",
    "    length = b - a\n",
    "    step = length / (n-1)\n",
    "    start = a\n",
    "    while start <= x:\n",
    "        start=start+step\n",
    "    y, z = start - step, start\n",
    "    return f(y) + (x - y) * (f(z) - f(y)) / (z - y)\n",
    "def f(y):\n",
    "    return y**3\n",
    "linapprox(f,1,3,5,2)"
   ]
  },
  {
   "cell_type": "markdown",
   "metadata": {},
   "source": [
    "## For loops\n",
    "\n",
    "** Exercise:** write a function `factorial` which takes an argument `n` and returns n! (the factorial of n)\n",
    "\n",
    "$$\n",
    "n! = n \\times (n - 1) \\times (n - 2) \\times \\ldots \\times 1\n",
    "$$"
   ]
  },
  {
   "cell_type": "code",
   "execution_count": 89,
   "metadata": {},
   "outputs": [
    {
     "data": {
      "text/plain": [
       "6"
      ]
     },
     "execution_count": 89,
     "metadata": {},
     "output_type": "execute_result"
    }
   ],
   "source": [
    "def f(n):\n",
    "    y=1\n",
    "    N=range(1,n+1)\n",
    "    for i in N:\n",
    "        y=y*i\n",
    "    return y\n",
    "f(3)"
   ]
  },
  {
   "cell_type": "markdown",
   "metadata": {},
   "source": [
    "## While loops"
   ]
  },
  {
   "cell_type": "markdown",
   "metadata": {},
   "source": [
    "In addition to for loops, **while loops** can also be used for iteration"
   ]
  },
  {
   "cell_type": "code",
   "execution_count": 3,
   "metadata": {},
   "outputs": [
    {
     "name": "stdout",
     "output_type": "stream",
     "text": [
      "10\n",
      "9\n",
      "8\n",
      "7\n",
      "6\n",
      "5\n",
      "4\n",
      "3\n",
      "2\n"
     ]
    }
   ],
   "source": [
    "i = 10\n",
    "\n",
    "while i > 1:\n",
    "    print(i)\n",
    "    i = i - 1  # Subtract 1 from i"
   ]
  },
  {
   "cell_type": "markdown",
   "metadata": {},
   "source": [
    "** Exercise: ** Rewrite the `white_noise` function using a **while loop** instead of a **for loop**"
   ]
  },
  {
   "cell_type": "code",
   "execution_count": 109,
   "metadata": {},
   "outputs": [
    {
     "data": {
      "image/png": "[encoded data removed]",
      "text/plain": [
       "<matplotlib.figure.Figure at 0x7dc0a20>"
      ]
     },
     "metadata": {},
     "output_type": "display_data"
    }
   ],
   "source": [
    "from random import normalvariate\n",
    "import matplotlib.pyplot as plt\n",
    "\n",
    "ts_length = 100\n",
    "epsilon_values = []   \n",
    "i=0\n",
    "while i in range(ts_length):\n",
    "    e = normalvariate(0, 1)  \n",
    "    epsilon_values.append(e) \n",
    "    i=i+1\n",
    "plt.plot(epsilon_values)\n",
    "plt.show()"
   ]
  },
  {
   "cell_type": "markdown",
   "metadata": {},
   "source": [
    "## Generate a time series"
   ]
  },
  {
   "cell_type": "markdown",
   "metadata": {},
   "source": [
    "Consider the following autoregressive model (AR(1) model)\n",
    "\n",
    "$$\n",
    "y_{t+1} = \\mu + \\rho y_t + \\varepsilon_t \\quad \\quad \\varepsilon_t \\sim (0, 1)\n",
    "$$\n",
    "\n",
    "Where:\n",
    "* $\\mu$ is the unconditional mean\n",
    "* $\\rho$ is the persistence parameter\n",
    "* $\\varepsilon_t$ is an i.i.d random shock\n",
    "\n",
    "** Exercise: ** Write a function called `generate_AR1` that takes `mu`, `rho` and `T` as arguments\n",
    "* `mu` and `rho` should be positional arguments\n",
    "* `T` should be a keyword argument with a default value of 200\n",
    "* Let $y_0 = 10$\n",
    "\n",
    "The function should **return** a plot of the AR(1) series\n",
    "\n",
    "Use your function to plot a time series of an AR(1) process where `mu = 5` and `rho = 0.8`"
   ]
  },
  {
   "cell_type": "code",
   "execution_count": 132,
   "metadata": {},
   "outputs": [
    {
     "data": {
      "image/png": "[encoded data removed]",
      "text/plain": [
       "<matplotlib.figure.Figure at 0x7dcaef0>"
      ]
     },
     "metadata": {},
     "output_type": "display_data"
    }
   ],
   "source": [
    "from random import normalvariate\n",
    "import matplotlib.pyplot as plt\n",
    "def AR(mu,rho,T = 200):\n",
    "    y = []  \n",
    "    e=10\n",
    "    for i in range(T):\n",
    "        e = mu+rho*e+normalvariate(0, 1)  \n",
    "        y.append(e)  \n",
    "    plt.plot(y)\n",
    "    plt.show()\n",
    "AR(5,0.8)"
   ]
  },
  {
   "cell_type": "markdown",
   "metadata": {},
   "source": [
    "** Exercise: ** Create an interactive plot using your `generate_AR1` function\n",
    "* `mu` should take values between 0 and 10\n",
    "* `rho` should take values between 0 and 0.99, with steps of 0.01"
   ]
  },
  {
   "cell_type": "code",
   "execution_count": 139,
   "metadata": {},
   "outputs": [
    {
     "data": {
      "application/vnd.jupyter.widget-view+json": {
       "model_id": "6d9eab5501e2444bb14666f244fd4a6b"
      }
     },
     "metadata": {},
     "output_type": "display_data"
    },
    {
     "data": {
      "text/plain": [
       "<function __main__.AR>"
      ]
     },
     "execution_count": 139,
     "metadata": {},
     "output_type": "execute_result"
    }
   ],
   "source": [
    "from random import normalvariate\n",
    "import matplotlib.pyplot as plt\n",
    "def AR(mu,rho,T = 200):\n",
    "    y = []  \n",
    "    e=10\n",
    "    for i in range(T):\n",
    "        e = mu+rho*e+normalvariate(0, 1)  \n",
    "        y.append(e)  \n",
    "    plt.plot(y)\n",
    "    plt.show()\n",
    "from ipywidgets import interact\n",
    "\n",
    "interact(AR, mu=(0,10), rho=(0, 0.99))"
   ]
  }
 ],
 "metadata": {
  "kernelspec": {
   "display_name": "Python 3",
   "language": "python",
   "name": "python3"
  },
  "language_info": {
   "codemirror_mode": {
    "name": "ipython",
    "version": 3
   },
   "file_extension": ".py",
   "mimetype": "text/x-python",
   "name": "python",
   "nbconvert_exporter": "python",
   "pygments_lexer": "ipython3",
   "version": "3.6.1"
  }
 },
 "nbformat": 4,
 "nbformat_minor": 2
}
